{
 "cells": [
  {
   "cell_type": "markdown",
   "id": "fb139911",
   "metadata": {},
   "source": [
    "# 단순 회귀분석\n",
    "\n",
    "## 단순 회귀분석의 특징\n",
    "    연속형 종속변수와 독립변수 간 선형관계 및 설명력을 확인하는 방법\n",
    "    종속변수와 독립변수가 각각 하나인 경우의 단순 선형 회귀 모형\n",
    "    설명력과 더불어 오차 평가 지표로 모델의 성능을 평가\n",
    "    \n",
    "## statsmodels - ols()\n",
    "    선형회귀 분석을 위한 statsmodels의 함수\n",
    "    ols() 함수 내에 종속변수와 독립변수를 선언\n",
    "    ols() 함수의 fit() 메서드로 모델 적합\n",
    "    변수명에 온점 등 특정 특수문자가 있는 경우 오류 발생\n",
    "    모델 객체의 predict() 메서드로 예측"
   ]
  },
  {
   "cell_type": "code",
   "execution_count": 1,
   "id": "b1dd18e4",
   "metadata": {},
   "outputs": [],
   "source": [
    "import pandas as pd\n",
    "from statsmodels.formula.api import ols"
   ]
  },
  {
   "cell_type": "code",
   "execution_count": 2,
   "id": "466d7a24",
   "metadata": {},
   "outputs": [
    {
     "data": {
      "text/html": [
       "<div>\n",
       "<style scoped>\n",
       "    .dataframe tbody tr th:only-of-type {\n",
       "        vertical-align: middle;\n",
       "    }\n",
       "\n",
       "    .dataframe tbody tr th {\n",
       "        vertical-align: top;\n",
       "    }\n",
       "\n",
       "    .dataframe thead th {\n",
       "        text-align: right;\n",
       "    }\n",
       "</style>\n",
       "<table border=\"1\" class=\"dataframe\">\n",
       "  <thead>\n",
       "    <tr style=\"text-align: right;\">\n",
       "      <th></th>\n",
       "      <th>Sepal.Length</th>\n",
       "      <th>Sepal.Width</th>\n",
       "      <th>Petal.Length</th>\n",
       "      <th>Petal.Width</th>\n",
       "      <th>Species</th>\n",
       "    </tr>\n",
       "  </thead>\n",
       "  <tbody>\n",
       "    <tr>\n",
       "      <th>0</th>\n",
       "      <td>5.1</td>\n",
       "      <td>3.5</td>\n",
       "      <td>1.4</td>\n",
       "      <td>0.2</td>\n",
       "      <td>setosa</td>\n",
       "    </tr>\n",
       "    <tr>\n",
       "      <th>1</th>\n",
       "      <td>4.9</td>\n",
       "      <td>3.0</td>\n",
       "      <td>1.4</td>\n",
       "      <td>0.2</td>\n",
       "      <td>setosa</td>\n",
       "    </tr>\n",
       "  </tbody>\n",
       "</table>\n",
       "</div>"
      ],
      "text/plain": [
       "   Sepal.Length  Sepal.Width  Petal.Length  Petal.Width Species\n",
       "0           5.1          3.5           1.4          0.2  setosa\n",
       "1           4.9          3.0           1.4          0.2  setosa"
      ]
     },
     "execution_count": 2,
     "metadata": {},
     "output_type": "execute_result"
    }
   ],
   "source": [
    "df = pd.read_csv(\"iris.csv\")\n",
    "df.head(2)"
   ]
  },
  {
   "cell_type": "code",
   "execution_count": 3,
   "id": "67b092a1",
   "metadata": {},
   "outputs": [
    {
     "data": {
      "text/html": [
       "<div>\n",
       "<style scoped>\n",
       "    .dataframe tbody tr th:only-of-type {\n",
       "        vertical-align: middle;\n",
       "    }\n",
       "\n",
       "    .dataframe tbody tr th {\n",
       "        vertical-align: top;\n",
       "    }\n",
       "\n",
       "    .dataframe thead th {\n",
       "        text-align: right;\n",
       "    }\n",
       "</style>\n",
       "<table border=\"1\" class=\"dataframe\">\n",
       "  <thead>\n",
       "    <tr style=\"text-align: right;\">\n",
       "      <th></th>\n",
       "      <th>SL</th>\n",
       "      <th>SW</th>\n",
       "      <th>PL</th>\n",
       "      <th>PW</th>\n",
       "      <th>species</th>\n",
       "    </tr>\n",
       "  </thead>\n",
       "  <tbody>\n",
       "    <tr>\n",
       "      <th>0</th>\n",
       "      <td>5.1</td>\n",
       "      <td>3.5</td>\n",
       "      <td>1.4</td>\n",
       "      <td>0.2</td>\n",
       "      <td>setosa</td>\n",
       "    </tr>\n",
       "    <tr>\n",
       "      <th>1</th>\n",
       "      <td>4.9</td>\n",
       "      <td>3.0</td>\n",
       "      <td>1.4</td>\n",
       "      <td>0.2</td>\n",
       "      <td>setosa</td>\n",
       "    </tr>\n",
       "  </tbody>\n",
       "</table>\n",
       "</div>"
      ],
      "text/plain": [
       "    SL   SW   PL   PW species\n",
       "0  5.1  3.5  1.4  0.2  setosa\n",
       "1  4.9  3.0  1.4  0.2  setosa"
      ]
     },
     "execution_count": 3,
     "metadata": {},
     "output_type": "execute_result"
    }
   ],
   "source": [
    "#model = ols(formular=\"Sepal.Length ~ Sepal.Width\", data=df).fit()\n",
    "\n",
    "df.columns = [\"SL\", \"SW\", \"PL\", \"PW\", \"species\"]\n",
    "df.head(2)"
   ]
  },
  {
   "cell_type": "code",
   "execution_count": 5,
   "id": "3dcf12ff",
   "metadata": {},
   "outputs": [
    {
     "data": {
      "text/html": [
       "<table class=\"simpletable\">\n",
       "<caption>OLS Regression Results</caption>\n",
       "<tr>\n",
       "  <th>Dep. Variable:</th>           <td>SL</td>        <th>  R-squared:         </th> <td>   0.014</td>\n",
       "</tr>\n",
       "<tr>\n",
       "  <th>Model:</th>                   <td>OLS</td>       <th>  Adj. R-squared:    </th> <td>   0.007</td>\n",
       "</tr>\n",
       "<tr>\n",
       "  <th>Method:</th>             <td>Least Squares</td>  <th>  F-statistic:       </th> <td>   2.074</td>\n",
       "</tr>\n",
       "<tr>\n",
       "  <th>Date:</th>             <td>Tue, 07 Feb 2023</td> <th>  Prob (F-statistic):</th>  <td> 0.152</td> \n",
       "</tr>\n",
       "<tr>\n",
       "  <th>Time:</th>                 <td>13:42:58</td>     <th>  Log-Likelihood:    </th> <td> -183.00</td>\n",
       "</tr>\n",
       "<tr>\n",
       "  <th>No. Observations:</th>      <td>   150</td>      <th>  AIC:               </th> <td>   370.0</td>\n",
       "</tr>\n",
       "<tr>\n",
       "  <th>Df Residuals:</th>          <td>   148</td>      <th>  BIC:               </th> <td>   376.0</td>\n",
       "</tr>\n",
       "<tr>\n",
       "  <th>Df Model:</th>              <td>     1</td>      <th>                     </th>     <td> </td>   \n",
       "</tr>\n",
       "<tr>\n",
       "  <th>Covariance Type:</th>      <td>nonrobust</td>    <th>                     </th>     <td> </td>   \n",
       "</tr>\n",
       "</table>\n",
       "<table class=\"simpletable\">\n",
       "<tr>\n",
       "      <td></td>         <th>coef</th>     <th>std err</th>      <th>t</th>      <th>P>|t|</th>  <th>[0.025</th>    <th>0.975]</th>  \n",
       "</tr>\n",
       "<tr>\n",
       "  <th>Intercept</th> <td>    6.5262</td> <td>    0.479</td> <td>   13.628</td> <td> 0.000</td> <td>    5.580</td> <td>    7.473</td>\n",
       "</tr>\n",
       "<tr>\n",
       "  <th>SW</th>        <td>   -0.2234</td> <td>    0.155</td> <td>   -1.440</td> <td> 0.152</td> <td>   -0.530</td> <td>    0.083</td>\n",
       "</tr>\n",
       "</table>\n",
       "<table class=\"simpletable\">\n",
       "<tr>\n",
       "  <th>Omnibus:</th>       <td> 4.389</td> <th>  Durbin-Watson:     </th> <td>   0.952</td>\n",
       "</tr>\n",
       "<tr>\n",
       "  <th>Prob(Omnibus):</th> <td> 0.111</td> <th>  Jarque-Bera (JB):  </th> <td>   4.237</td>\n",
       "</tr>\n",
       "<tr>\n",
       "  <th>Skew:</th>          <td> 0.360</td> <th>  Prob(JB):          </th> <td>   0.120</td>\n",
       "</tr>\n",
       "<tr>\n",
       "  <th>Kurtosis:</th>      <td> 2.600</td> <th>  Cond. No.          </th> <td>    24.2</td>\n",
       "</tr>\n",
       "</table><br/><br/>Notes:<br/>[1] Standard Errors assume that the covariance matrix of the errors is correctly specified."
      ],
      "text/plain": [
       "<class 'statsmodels.iolib.summary.Summary'>\n",
       "\"\"\"\n",
       "                            OLS Regression Results                            \n",
       "==============================================================================\n",
       "Dep. Variable:                     SL   R-squared:                       0.014\n",
       "Model:                            OLS   Adj. R-squared:                  0.007\n",
       "Method:                 Least Squares   F-statistic:                     2.074\n",
       "Date:                Tue, 07 Feb 2023   Prob (F-statistic):              0.152\n",
       "Time:                        13:42:58   Log-Likelihood:                -183.00\n",
       "No. Observations:                 150   AIC:                             370.0\n",
       "Df Residuals:                     148   BIC:                             376.0\n",
       "Df Model:                           1                                         \n",
       "Covariance Type:            nonrobust                                         \n",
       "==============================================================================\n",
       "                 coef    std err          t      P>|t|      [0.025      0.975]\n",
       "------------------------------------------------------------------------------\n",
       "Intercept      6.5262      0.479     13.628      0.000       5.580       7.473\n",
       "SW            -0.2234      0.155     -1.440      0.152      -0.530       0.083\n",
       "==============================================================================\n",
       "Omnibus:                        4.389   Durbin-Watson:                   0.952\n",
       "Prob(Omnibus):                  0.111   Jarque-Bera (JB):                4.237\n",
       "Skew:                           0.360   Prob(JB):                        0.120\n",
       "Kurtosis:                       2.600   Cond. No.                         24.2\n",
       "==============================================================================\n",
       "\n",
       "Notes:\n",
       "[1] Standard Errors assume that the covariance matrix of the errors is correctly specified.\n",
       "\"\"\""
      ]
     },
     "execution_count": 5,
     "metadata": {},
     "output_type": "execute_result"
    }
   ],
   "source": [
    "model = ols(formula=\"SL ~ SW\", data=df).fit()\n",
    "model.summary()"
   ]
  },
  {
   "cell_type": "code",
   "execution_count": 6,
   "id": "92a6ceaf",
   "metadata": {},
   "outputs": [
    {
     "data": {
      "text/html": [
       "<table class=\"simpletable\">\n",
       "<caption>OLS Regression Results</caption>\n",
       "<tr>\n",
       "  <th>Dep. Variable:</th>           <td>PL</td>        <th>  R-squared:         </th> <td>   0.927</td>\n",
       "</tr>\n",
       "<tr>\n",
       "  <th>Model:</th>                   <td>OLS</td>       <th>  Adj. R-squared:    </th> <td>   0.927</td>\n",
       "</tr>\n",
       "<tr>\n",
       "  <th>Method:</th>             <td>Least Squares</td>  <th>  F-statistic:       </th> <td>   1882.</td>\n",
       "</tr>\n",
       "<tr>\n",
       "  <th>Date:</th>             <td>Tue, 07 Feb 2023</td> <th>  Prob (F-statistic):</th> <td>4.68e-86</td>\n",
       "</tr>\n",
       "<tr>\n",
       "  <th>Time:</th>                 <td>13:45:14</td>     <th>  Log-Likelihood:    </th> <td> -101.18</td>\n",
       "</tr>\n",
       "<tr>\n",
       "  <th>No. Observations:</th>      <td>   150</td>      <th>  AIC:               </th> <td>   206.4</td>\n",
       "</tr>\n",
       "<tr>\n",
       "  <th>Df Residuals:</th>          <td>   148</td>      <th>  BIC:               </th> <td>   212.4</td>\n",
       "</tr>\n",
       "<tr>\n",
       "  <th>Df Model:</th>              <td>     1</td>      <th>                     </th>     <td> </td>   \n",
       "</tr>\n",
       "<tr>\n",
       "  <th>Covariance Type:</th>      <td>nonrobust</td>    <th>                     </th>     <td> </td>   \n",
       "</tr>\n",
       "</table>\n",
       "<table class=\"simpletable\">\n",
       "<tr>\n",
       "      <td></td>         <th>coef</th>     <th>std err</th>      <th>t</th>      <th>P>|t|</th>  <th>[0.025</th>    <th>0.975]</th>  \n",
       "</tr>\n",
       "<tr>\n",
       "  <th>Intercept</th> <td>    1.0836</td> <td>    0.073</td> <td>   14.850</td> <td> 0.000</td> <td>    0.939</td> <td>    1.228</td>\n",
       "</tr>\n",
       "<tr>\n",
       "  <th>PW</th>        <td>    2.2299</td> <td>    0.051</td> <td>   43.387</td> <td> 0.000</td> <td>    2.128</td> <td>    2.332</td>\n",
       "</tr>\n",
       "</table>\n",
       "<table class=\"simpletable\">\n",
       "<tr>\n",
       "  <th>Omnibus:</th>       <td> 2.438</td> <th>  Durbin-Watson:     </th> <td>   1.430</td>\n",
       "</tr>\n",
       "<tr>\n",
       "  <th>Prob(Omnibus):</th> <td> 0.295</td> <th>  Jarque-Bera (JB):  </th> <td>   1.966</td>\n",
       "</tr>\n",
       "<tr>\n",
       "  <th>Skew:</th>          <td> 0.211</td> <th>  Prob(JB):          </th> <td>   0.374</td>\n",
       "</tr>\n",
       "<tr>\n",
       "  <th>Kurtosis:</th>      <td> 3.369</td> <th>  Cond. No.          </th> <td>    3.70</td>\n",
       "</tr>\n",
       "</table><br/><br/>Notes:<br/>[1] Standard Errors assume that the covariance matrix of the errors is correctly specified."
      ],
      "text/plain": [
       "<class 'statsmodels.iolib.summary.Summary'>\n",
       "\"\"\"\n",
       "                            OLS Regression Results                            \n",
       "==============================================================================\n",
       "Dep. Variable:                     PL   R-squared:                       0.927\n",
       "Model:                            OLS   Adj. R-squared:                  0.927\n",
       "Method:                 Least Squares   F-statistic:                     1882.\n",
       "Date:                Tue, 07 Feb 2023   Prob (F-statistic):           4.68e-86\n",
       "Time:                        13:45:14   Log-Likelihood:                -101.18\n",
       "No. Observations:                 150   AIC:                             206.4\n",
       "Df Residuals:                     148   BIC:                             212.4\n",
       "Df Model:                           1                                         \n",
       "Covariance Type:            nonrobust                                         \n",
       "==============================================================================\n",
       "                 coef    std err          t      P>|t|      [0.025      0.975]\n",
       "------------------------------------------------------------------------------\n",
       "Intercept      1.0836      0.073     14.850      0.000       0.939       1.228\n",
       "PW             2.2299      0.051     43.387      0.000       2.128       2.332\n",
       "==============================================================================\n",
       "Omnibus:                        2.438   Durbin-Watson:                   1.430\n",
       "Prob(Omnibus):                  0.295   Jarque-Bera (JB):                1.966\n",
       "Skew:                           0.211   Prob(JB):                        0.374\n",
       "Kurtosis:                       3.369   Cond. No.                         3.70\n",
       "==============================================================================\n",
       "\n",
       "Notes:\n",
       "[1] Standard Errors assume that the covariance matrix of the errors is correctly specified.\n",
       "\"\"\""
      ]
     },
     "execution_count": 6,
     "metadata": {},
     "output_type": "execute_result"
    }
   ],
   "source": [
    "model = ols(formula=\"PL ~ PW\", data=df).fit()\n",
    "model.summary()"
   ]
  },
  {
   "cell_type": "markdown",
   "id": "f5775bd3",
   "metadata": {},
   "source": [
    "y = 2.2299x + 1.0836"
   ]
  },
  {
   "cell_type": "code",
   "execution_count": 8,
   "id": "1614a0d7",
   "metadata": {},
   "outputs": [
    {
     "data": {
      "text/plain": [
       "0    1.529546\n",
       "1    1.529546\n",
       "2    1.529546\n",
       "3    1.529546\n",
       "4    1.529546\n",
       "5    1.975534\n",
       "dtype: float64"
      ]
     },
     "execution_count": 8,
     "metadata": {},
     "output_type": "execute_result"
    }
   ],
   "source": [
    "model.predict(df.iloc[:6,])"
   ]
  },
  {
   "cell_type": "code",
   "execution_count": 11,
   "id": "9245fdce",
   "metadata": {},
   "outputs": [
    {
     "data": {
      "text/html": [
       "<div>\n",
       "<style scoped>\n",
       "    .dataframe tbody tr th:only-of-type {\n",
       "        vertical-align: middle;\n",
       "    }\n",
       "\n",
       "    .dataframe tbody tr th {\n",
       "        vertical-align: top;\n",
       "    }\n",
       "\n",
       "    .dataframe thead th {\n",
       "        text-align: right;\n",
       "    }\n",
       "</style>\n",
       "<table border=\"1\" class=\"dataframe\">\n",
       "  <thead>\n",
       "    <tr style=\"text-align: right;\">\n",
       "      <th></th>\n",
       "      <th>SL</th>\n",
       "      <th>SW</th>\n",
       "      <th>PL</th>\n",
       "      <th>PW</th>\n",
       "      <th>species</th>\n",
       "      <th>pred</th>\n",
       "    </tr>\n",
       "  </thead>\n",
       "  <tbody>\n",
       "    <tr>\n",
       "      <th>0</th>\n",
       "      <td>5.1</td>\n",
       "      <td>3.5</td>\n",
       "      <td>1.4</td>\n",
       "      <td>0.2</td>\n",
       "      <td>setosa</td>\n",
       "      <td>1.529546</td>\n",
       "    </tr>\n",
       "    <tr>\n",
       "      <th>1</th>\n",
       "      <td>4.9</td>\n",
       "      <td>3.0</td>\n",
       "      <td>1.4</td>\n",
       "      <td>0.2</td>\n",
       "      <td>setosa</td>\n",
       "      <td>1.529546</td>\n",
       "    </tr>\n",
       "    <tr>\n",
       "      <th>2</th>\n",
       "      <td>4.7</td>\n",
       "      <td>3.2</td>\n",
       "      <td>1.3</td>\n",
       "      <td>0.2</td>\n",
       "      <td>setosa</td>\n",
       "      <td>1.529546</td>\n",
       "    </tr>\n",
       "    <tr>\n",
       "      <th>3</th>\n",
       "      <td>4.6</td>\n",
       "      <td>3.1</td>\n",
       "      <td>1.5</td>\n",
       "      <td>0.2</td>\n",
       "      <td>setosa</td>\n",
       "      <td>1.529546</td>\n",
       "    </tr>\n",
       "    <tr>\n",
       "      <th>4</th>\n",
       "      <td>5.0</td>\n",
       "      <td>3.6</td>\n",
       "      <td>1.4</td>\n",
       "      <td>0.2</td>\n",
       "      <td>setosa</td>\n",
       "      <td>1.529546</td>\n",
       "    </tr>\n",
       "  </tbody>\n",
       "</table>\n",
       "</div>"
      ],
      "text/plain": [
       "    SL   SW   PL   PW species      pred\n",
       "0  5.1  3.5  1.4  0.2  setosa  1.529546\n",
       "1  4.9  3.0  1.4  0.2  setosa  1.529546\n",
       "2  4.7  3.2  1.3  0.2  setosa  1.529546\n",
       "3  4.6  3.1  1.5  0.2  setosa  1.529546\n",
       "4  5.0  3.6  1.4  0.2  setosa  1.529546"
      ]
     },
     "execution_count": 11,
     "metadata": {},
     "output_type": "execute_result"
    }
   ],
   "source": [
    "df[\"pred\"] = model.predict(df) #알아서 학습한 변수로 넣어줌\n",
    "df.head()"
   ]
  },
  {
   "cell_type": "markdown",
   "id": "9077aaaf",
   "metadata": {},
   "source": [
    "## sklearn - LinearRegression()\n",
    "    선형회귀 분석을 위한 sklearn의 함수\n",
    "    LinearRegression() 함수 내 fit_intercept로 절편 적합 여부 설정 가능\n",
    "    LinearRegression() 함수의 fit() 메서드에 학습 데이터 할당 가능\n",
    "    모델 객체의 coef_와 intercept_ 어트리뷰트로 각가 계수와 절편 확인 가능\n",
    "    모델 객체의 predict() 메서드로 예측"
   ]
  },
  {
   "cell_type": "code",
   "execution_count": 12,
   "id": "4daff01f",
   "metadata": {},
   "outputs": [],
   "source": [
    "from sklearn.linear_model import LinearRegression"
   ]
  },
  {
   "cell_type": "code",
   "execution_count": 14,
   "id": "2a22f51b",
   "metadata": {},
   "outputs": [
    {
     "data": {
      "text/plain": [
       "0      1.4\n",
       "1      1.4\n",
       "2      1.3\n",
       "3      1.5\n",
       "4      1.4\n",
       "      ... \n",
       "145    5.2\n",
       "146    5.0\n",
       "147    5.2\n",
       "148    5.4\n",
       "149    5.1\n",
       "Name: PL, Length: 150, dtype: float64"
      ]
     },
     "execution_count": 14,
     "metadata": {},
     "output_type": "execute_result"
    }
   ],
   "source": [
    "#model = LinearRegression.fit(X=df[\"PL\"], y=df[\"PW\"])\n",
    "df[\"PL\"]"
   ]
  },
  {
   "cell_type": "code",
   "execution_count": 16,
   "id": "36ff8f77",
   "metadata": {},
   "outputs": [
    {
     "data": {
      "text/html": [
       "<div>\n",
       "<style scoped>\n",
       "    .dataframe tbody tr th:only-of-type {\n",
       "        vertical-align: middle;\n",
       "    }\n",
       "\n",
       "    .dataframe tbody tr th {\n",
       "        vertical-align: top;\n",
       "    }\n",
       "\n",
       "    .dataframe thead th {\n",
       "        text-align: right;\n",
       "    }\n",
       "</style>\n",
       "<table border=\"1\" class=\"dataframe\">\n",
       "  <thead>\n",
       "    <tr style=\"text-align: right;\">\n",
       "      <th></th>\n",
       "      <th>PL</th>\n",
       "    </tr>\n",
       "  </thead>\n",
       "  <tbody>\n",
       "    <tr>\n",
       "      <th>0</th>\n",
       "      <td>1.4</td>\n",
       "    </tr>\n",
       "    <tr>\n",
       "      <th>1</th>\n",
       "      <td>1.4</td>\n",
       "    </tr>\n",
       "    <tr>\n",
       "      <th>2</th>\n",
       "      <td>1.3</td>\n",
       "    </tr>\n",
       "    <tr>\n",
       "      <th>3</th>\n",
       "      <td>1.5</td>\n",
       "    </tr>\n",
       "    <tr>\n",
       "      <th>4</th>\n",
       "      <td>1.4</td>\n",
       "    </tr>\n",
       "    <tr>\n",
       "      <th>...</th>\n",
       "      <td>...</td>\n",
       "    </tr>\n",
       "    <tr>\n",
       "      <th>145</th>\n",
       "      <td>5.2</td>\n",
       "    </tr>\n",
       "    <tr>\n",
       "      <th>146</th>\n",
       "      <td>5.0</td>\n",
       "    </tr>\n",
       "    <tr>\n",
       "      <th>147</th>\n",
       "      <td>5.2</td>\n",
       "    </tr>\n",
       "    <tr>\n",
       "      <th>148</th>\n",
       "      <td>5.4</td>\n",
       "    </tr>\n",
       "    <tr>\n",
       "      <th>149</th>\n",
       "      <td>5.1</td>\n",
       "    </tr>\n",
       "  </tbody>\n",
       "</table>\n",
       "<p>150 rows × 1 columns</p>\n",
       "</div>"
      ],
      "text/plain": [
       "      PL\n",
       "0    1.4\n",
       "1    1.4\n",
       "2    1.3\n",
       "3    1.5\n",
       "4    1.4\n",
       "..   ...\n",
       "145  5.2\n",
       "146  5.0\n",
       "147  5.2\n",
       "148  5.4\n",
       "149  5.1\n",
       "\n",
       "[150 rows x 1 columns]"
      ]
     },
     "execution_count": 16,
     "metadata": {},
     "output_type": "execute_result"
    }
   ],
   "source": [
    "df[[\"PL\"]]"
   ]
  },
  {
   "cell_type": "code",
   "execution_count": 17,
   "id": "09289f87",
   "metadata": {},
   "outputs": [
    {
     "data": {
      "text/plain": [
       "SL              5.1\n",
       "SW              3.5\n",
       "PL              1.4\n",
       "PW              0.2\n",
       "species      setosa\n",
       "pred       1.529546\n",
       "Name: 0, dtype: object"
      ]
     },
     "execution_count": 17,
     "metadata": {},
     "output_type": "execute_result"
    }
   ],
   "source": [
    "df.iloc[0,]"
   ]
  },
  {
   "cell_type": "code",
   "execution_count": 20,
   "id": "862b3689",
   "metadata": {},
   "outputs": [
    {
     "data": {
      "text/html": [
       "<div>\n",
       "<style scoped>\n",
       "    .dataframe tbody tr th:only-of-type {\n",
       "        vertical-align: middle;\n",
       "    }\n",
       "\n",
       "    .dataframe tbody tr th {\n",
       "        vertical-align: top;\n",
       "    }\n",
       "\n",
       "    .dataframe thead th {\n",
       "        text-align: right;\n",
       "    }\n",
       "</style>\n",
       "<table border=\"1\" class=\"dataframe\">\n",
       "  <thead>\n",
       "    <tr style=\"text-align: right;\">\n",
       "      <th></th>\n",
       "      <th>SL</th>\n",
       "      <th>SW</th>\n",
       "      <th>PL</th>\n",
       "      <th>PW</th>\n",
       "      <th>species</th>\n",
       "      <th>pred</th>\n",
       "    </tr>\n",
       "  </thead>\n",
       "  <tbody>\n",
       "    <tr>\n",
       "      <th>0</th>\n",
       "      <td>5.1</td>\n",
       "      <td>3.5</td>\n",
       "      <td>1.4</td>\n",
       "      <td>0.2</td>\n",
       "      <td>setosa</td>\n",
       "      <td>1.529546</td>\n",
       "    </tr>\n",
       "  </tbody>\n",
       "</table>\n",
       "</div>"
      ],
      "text/plain": [
       "    SL   SW   PL   PW species      pred\n",
       "0  5.1  3.5  1.4  0.2  setosa  1.529546"
      ]
     },
     "execution_count": 20,
     "metadata": {},
     "output_type": "execute_result"
    }
   ],
   "source": [
    "df.iloc[[0],]"
   ]
  },
  {
   "cell_type": "code",
   "execution_count": 26,
   "id": "78b0d124",
   "metadata": {},
   "outputs": [
    {
     "data": {
      "text/plain": [
       "LinearRegression()"
      ]
     },
     "execution_count": 26,
     "metadata": {},
     "output_type": "execute_result"
    }
   ],
   "source": [
    "model = LinearRegression().fit(X=df[[\"PW\"]], y=df[[\"PL\"]])\n",
    "model"
   ]
  },
  {
   "cell_type": "code",
   "execution_count": 27,
   "id": "9e27e2a1",
   "metadata": {},
   "outputs": [
    {
     "data": {
      "text/plain": [
       "array([[2.2299405]])"
      ]
     },
     "execution_count": 27,
     "metadata": {},
     "output_type": "execute_result"
    }
   ],
   "source": [
    "model.coef_"
   ]
  },
  {
   "cell_type": "code",
   "execution_count": 28,
   "id": "d49bc46f",
   "metadata": {},
   "outputs": [
    {
     "data": {
      "text/plain": [
       "array([1.08355803])"
      ]
     },
     "execution_count": 28,
     "metadata": {},
     "output_type": "execute_result"
    }
   ],
   "source": [
    "model.intercept_"
   ]
  },
  {
   "cell_type": "code",
   "execution_count": 29,
   "id": "303a1bc9",
   "metadata": {},
   "outputs": [
    {
     "name": "stderr",
     "output_type": "stream",
     "text": [
      "C:\\Users\\yeoul\\anaconda3\\lib\\site-packages\\sklearn\\base.py:493: FutureWarning: The feature names should match those that were passed during fit. Starting version 1.2, an error will be raised.\n",
      "Feature names unseen at fit time:\n",
      "- PL\n",
      "Feature names seen at fit time, yet now missing:\n",
      "- PW\n",
      "\n",
      "  warnings.warn(message, FutureWarning)\n"
     ]
    },
    {
     "data": {
      "text/plain": [
       "array([[ 4.20547473],\n",
       "       [ 4.20547473],\n",
       "       [ 3.98248068],\n",
       "       [ 4.42846878],\n",
       "       [ 4.20547473],\n",
       "       [ 4.87445687],\n",
       "       [ 4.20547473],\n",
       "       [ 4.42846878],\n",
       "       [ 4.20547473],\n",
       "       [ 4.42846878],\n",
       "       [ 4.42846878],\n",
       "       [ 4.65146283],\n",
       "       [ 4.20547473],\n",
       "       [ 3.53649258],\n",
       "       [ 3.75948663],\n",
       "       [ 4.42846878],\n",
       "       [ 3.98248068],\n",
       "       [ 4.20547473],\n",
       "       [ 4.87445687],\n",
       "       [ 4.42846878],\n",
       "       [ 4.87445687],\n",
       "       [ 4.42846878],\n",
       "       [ 3.31349853],\n",
       "       [ 4.87445687],\n",
       "       [ 5.32044497],\n",
       "       [ 4.65146283],\n",
       "       [ 4.65146283],\n",
       "       [ 4.42846878],\n",
       "       [ 4.20547473],\n",
       "       [ 4.65146283],\n",
       "       [ 4.65146283],\n",
       "       [ 4.42846878],\n",
       "       [ 4.42846878],\n",
       "       [ 4.20547473],\n",
       "       [ 4.42846878],\n",
       "       [ 3.75948663],\n",
       "       [ 3.98248068],\n",
       "       [ 4.20547473],\n",
       "       [ 3.98248068],\n",
       "       [ 4.42846878],\n",
       "       [ 3.98248068],\n",
       "       [ 3.98248068],\n",
       "       [ 3.98248068],\n",
       "       [ 4.65146283],\n",
       "       [ 5.32044497],\n",
       "       [ 4.20547473],\n",
       "       [ 4.65146283],\n",
       "       [ 4.20547473],\n",
       "       [ 4.42846878],\n",
       "       [ 4.20547473],\n",
       "       [11.56427836],\n",
       "       [11.11829026],\n",
       "       [12.01026646],\n",
       "       [10.00332001],\n",
       "       [11.34128431],\n",
       "       [11.11829026],\n",
       "       [11.56427836],\n",
       "       [ 8.44236167],\n",
       "       [11.34128431],\n",
       "       [ 9.78032596],\n",
       "       [ 8.88834977],\n",
       "       [10.44930811],\n",
       "       [10.00332001],\n",
       "       [11.56427836],\n",
       "       [ 9.11134382],\n",
       "       [10.89529621],\n",
       "       [11.11829026],\n",
       "       [10.22631406],\n",
       "       [11.11829026],\n",
       "       [ 9.78032596],\n",
       "       [11.78727241],\n",
       "       [10.00332001],\n",
       "       [12.01026646],\n",
       "       [11.56427836],\n",
       "       [10.67230216],\n",
       "       [10.89529621],\n",
       "       [11.78727241],\n",
       "       [12.23326051],\n",
       "       [11.11829026],\n",
       "       [ 8.88834977],\n",
       "       [ 9.55733191],\n",
       "       [ 9.33433786],\n",
       "       [ 9.78032596],\n",
       "       [12.45625456],\n",
       "       [11.11829026],\n",
       "       [11.11829026],\n",
       "       [11.56427836],\n",
       "       [10.89529621],\n",
       "       [10.22631406],\n",
       "       [10.00332001],\n",
       "       [10.89529621],\n",
       "       [11.34128431],\n",
       "       [10.00332001],\n",
       "       [ 8.44236167],\n",
       "       [10.44930811],\n",
       "       [10.44930811],\n",
       "       [10.44930811],\n",
       "       [10.67230216],\n",
       "       [ 7.77337952],\n",
       "       [10.22631406],\n",
       "       [14.463201  ],\n",
       "       [12.45625456],\n",
       "       [14.24020695],\n",
       "       [13.57122481],\n",
       "       [14.0172129 ],\n",
       "       [15.8011653 ],\n",
       "       [11.11829026],\n",
       "       [15.13218315],\n",
       "       [14.0172129 ],\n",
       "       [14.68619505],\n",
       "       [12.45625456],\n",
       "       [12.90224266],\n",
       "       [13.34823076],\n",
       "       [12.23326051],\n",
       "       [12.45625456],\n",
       "       [12.90224266],\n",
       "       [13.34823076],\n",
       "       [16.02415935],\n",
       "       [16.47014745],\n",
       "       [12.23326051],\n",
       "       [13.79421886],\n",
       "       [12.01026646],\n",
       "       [16.02415935],\n",
       "       [12.01026646],\n",
       "       [13.79421886],\n",
       "       [14.463201  ],\n",
       "       [11.78727241],\n",
       "       [12.01026646],\n",
       "       [13.57122481],\n",
       "       [14.0172129 ],\n",
       "       [14.68619505],\n",
       "       [15.3551772 ],\n",
       "       [13.57122481],\n",
       "       [12.45625456],\n",
       "       [13.57122481],\n",
       "       [14.68619505],\n",
       "       [13.57122481],\n",
       "       [13.34823076],\n",
       "       [11.78727241],\n",
       "       [13.12523671],\n",
       "       [13.57122481],\n",
       "       [12.45625456],\n",
       "       [12.45625456],\n",
       "       [14.24020695],\n",
       "       [13.79421886],\n",
       "       [12.67924861],\n",
       "       [12.23326051],\n",
       "       [12.67924861],\n",
       "       [13.12523671],\n",
       "       [12.45625456]])"
      ]
     },
     "execution_count": 29,
     "metadata": {},
     "output_type": "execute_result"
    }
   ],
   "source": [
    "#model.predict(df) #error\n",
    "model.predict(df[[\"PL\"]])"
   ]
  },
  {
   "cell_type": "code",
   "execution_count": 36,
   "id": "404de605",
   "metadata": {},
   "outputs": [
    {
     "data": {
      "text/plain": [
       "LinearRegression()"
      ]
     },
     "execution_count": 36,
     "metadata": {},
     "output_type": "execute_result"
    }
   ],
   "source": [
    "model2 = LinearRegression().fit(X=df[[\"SW\"]], y=df[[\"SL\"]])\n",
    "model2"
   ]
  },
  {
   "cell_type": "code",
   "execution_count": 37,
   "id": "20d32932",
   "metadata": {},
   "outputs": [
    {
     "data": {
      "text/plain": [
       "array([[-0.22336106]])"
      ]
     },
     "execution_count": 37,
     "metadata": {},
     "output_type": "execute_result"
    }
   ],
   "source": [
    "model2.coef_"
   ]
  },
  {
   "cell_type": "code",
   "execution_count": 38,
   "id": "cb90495d",
   "metadata": {},
   "outputs": [
    {
     "data": {
      "text/plain": [
       "array([6.52622255])"
      ]
     },
     "execution_count": 38,
     "metadata": {},
     "output_type": "execute_result"
    }
   ],
   "source": [
    "model2.intercept_"
   ]
  },
  {
   "cell_type": "markdown",
   "id": "3f2704a1",
   "metadata": {},
   "source": [
    "## sklearn - mean_absolute_error()\n",
    "    MAE(Mean Absolute Error) 연산을 위한 sklearn의 함수\n",
    "    \n",
    "## sklearn - mean_squared_error()\n",
    "    MSE(Mean Squared Error) 연산을 위한 sklearn 함수\n",
    "    해당 결과에 제곱근 연산을 하면 RMSE(Root Mean Squared Error) 계산 가능"
   ]
  },
  {
   "cell_type": "code",
   "execution_count": 39,
   "id": "8955571d",
   "metadata": {},
   "outputs": [],
   "source": [
    "from sklearn.metrics import mean_absolute_error\n",
    "from sklearn.metrics import mean_squared_error"
   ]
  },
  {
   "cell_type": "code",
   "execution_count": 40,
   "id": "1c0ae20f",
   "metadata": {},
   "outputs": [
    {
     "data": {
      "text/plain": [
       "2.558666666666667"
      ]
     },
     "execution_count": 40,
     "metadata": {},
     "output_type": "execute_result"
    }
   ],
   "source": [
    "mean_absolute_error(y_true=df[\"PL\"], y_pred=df[\"PW\"])"
   ]
  },
  {
   "cell_type": "code",
   "execution_count": 41,
   "id": "5d986e65",
   "metadata": {},
   "outputs": [
    {
     "data": {
      "text/plain": [
       "7.645466666666667"
      ]
     },
     "execution_count": 41,
     "metadata": {},
     "output_type": "execute_result"
    }
   ],
   "source": [
    "mean_absolute_error(y_true=df[\"PL\"], y_pred=df[\"PW\"])"
   ]
  },
  {
   "cell_type": "code",
   "execution_count": 42,
   "id": "287631e4",
   "metadata": {},
   "outputs": [
    {
     "data": {
      "text/plain": [
       "2.76504370067937"
      ]
     },
     "execution_count": 42,
     "metadata": {},
     "output_type": "execute_result"
    }
   ],
   "source": [
    "mean_squared_error(y_true=df[\"PL\"], y_pred=df[\"PW\"]) ** 0.5"
   ]
  },
  {
   "cell_type": "markdown",
   "id": "4cfb5b1d",
   "metadata": {},
   "source": [
    "문제 01. 종속변수를 registered, 독립변수를 temp로 했을 때 결정계수는?\n",
    "statsmodels 함수 활용, 학습 데이터 비율을 70%, seed를 123으로 설정"
   ]
  },
  {
   "cell_type": "code",
   "execution_count": 43,
   "id": "7a19cbd6",
   "metadata": {},
   "outputs": [
    {
     "data": {
      "text/html": [
       "<div>\n",
       "<style scoped>\n",
       "    .dataframe tbody tr th:only-of-type {\n",
       "        vertical-align: middle;\n",
       "    }\n",
       "\n",
       "    .dataframe tbody tr th {\n",
       "        vertical-align: top;\n",
       "    }\n",
       "\n",
       "    .dataframe thead th {\n",
       "        text-align: right;\n",
       "    }\n",
       "</style>\n",
       "<table border=\"1\" class=\"dataframe\">\n",
       "  <thead>\n",
       "    <tr style=\"text-align: right;\">\n",
       "      <th></th>\n",
       "      <th>datetime</th>\n",
       "      <th>season</th>\n",
       "      <th>holiday</th>\n",
       "      <th>workingday</th>\n",
       "      <th>weather</th>\n",
       "      <th>temp</th>\n",
       "      <th>atemp</th>\n",
       "      <th>humidity</th>\n",
       "      <th>windspeed</th>\n",
       "      <th>casual</th>\n",
       "      <th>registered</th>\n",
       "      <th>count</th>\n",
       "    </tr>\n",
       "  </thead>\n",
       "  <tbody>\n",
       "    <tr>\n",
       "      <th>0</th>\n",
       "      <td>2011-01-01 00:00:00</td>\n",
       "      <td>1</td>\n",
       "      <td>0</td>\n",
       "      <td>0</td>\n",
       "      <td>1</td>\n",
       "      <td>9.84</td>\n",
       "      <td>14.395</td>\n",
       "      <td>81</td>\n",
       "      <td>0.0</td>\n",
       "      <td>3</td>\n",
       "      <td>13</td>\n",
       "      <td>16</td>\n",
       "    </tr>\n",
       "    <tr>\n",
       "      <th>1</th>\n",
       "      <td>2011-01-01 01:00:00</td>\n",
       "      <td>1</td>\n",
       "      <td>0</td>\n",
       "      <td>0</td>\n",
       "      <td>1</td>\n",
       "      <td>9.02</td>\n",
       "      <td>13.635</td>\n",
       "      <td>80</td>\n",
       "      <td>0.0</td>\n",
       "      <td>8</td>\n",
       "      <td>32</td>\n",
       "      <td>40</td>\n",
       "    </tr>\n",
       "  </tbody>\n",
       "</table>\n",
       "</div>"
      ],
      "text/plain": [
       "              datetime  season  holiday  workingday  weather  temp   atemp  \\\n",
       "0  2011-01-01 00:00:00       1        0           0        1  9.84  14.395   \n",
       "1  2011-01-01 01:00:00       1        0           0        1  9.02  13.635   \n",
       "\n",
       "   humidity  windspeed  casual  registered  count  \n",
       "0        81        0.0       3          13     16  \n",
       "1        80        0.0       8          32     40  "
      ]
     },
     "execution_count": 43,
     "metadata": {},
     "output_type": "execute_result"
    }
   ],
   "source": [
    "df = pd.read_csv(\"bike.csv\")\n",
    "df.head(2)"
   ]
  },
  {
   "cell_type": "code",
   "execution_count": 44,
   "id": "abd5f4ec",
   "metadata": {},
   "outputs": [],
   "source": [
    "from sklearn.model_selection import train_test_split"
   ]
  },
  {
   "cell_type": "code",
   "execution_count": 46,
   "id": "01a40474",
   "metadata": {},
   "outputs": [
    {
     "data": {
      "text/html": [
       "<div>\n",
       "<style scoped>\n",
       "    .dataframe tbody tr th:only-of-type {\n",
       "        vertical-align: middle;\n",
       "    }\n",
       "\n",
       "    .dataframe tbody tr th {\n",
       "        vertical-align: top;\n",
       "    }\n",
       "\n",
       "    .dataframe thead th {\n",
       "        text-align: right;\n",
       "    }\n",
       "</style>\n",
       "<table border=\"1\" class=\"dataframe\">\n",
       "  <thead>\n",
       "    <tr style=\"text-align: right;\">\n",
       "      <th></th>\n",
       "      <th>datetime</th>\n",
       "      <th>season</th>\n",
       "      <th>holiday</th>\n",
       "      <th>workingday</th>\n",
       "      <th>weather</th>\n",
       "      <th>temp</th>\n",
       "      <th>atemp</th>\n",
       "      <th>humidity</th>\n",
       "      <th>windspeed</th>\n",
       "      <th>casual</th>\n",
       "      <th>registered</th>\n",
       "      <th>count</th>\n",
       "    </tr>\n",
       "  </thead>\n",
       "  <tbody>\n",
       "    <tr>\n",
       "      <th>4046</th>\n",
       "      <td>2011-09-19 15:00:00</td>\n",
       "      <td>3</td>\n",
       "      <td>0</td>\n",
       "      <td>1</td>\n",
       "      <td>2</td>\n",
       "      <td>24.60</td>\n",
       "      <td>30.305</td>\n",
       "      <td>60</td>\n",
       "      <td>15.0013</td>\n",
       "      <td>44</td>\n",
       "      <td>143</td>\n",
       "      <td>187</td>\n",
       "    </tr>\n",
       "    <tr>\n",
       "      <th>9262</th>\n",
       "      <td>2012-09-09 07:00:00</td>\n",
       "      <td>3</td>\n",
       "      <td>0</td>\n",
       "      <td>0</td>\n",
       "      <td>1</td>\n",
       "      <td>22.14</td>\n",
       "      <td>25.760</td>\n",
       "      <td>73</td>\n",
       "      <td>11.0014</td>\n",
       "      <td>20</td>\n",
       "      <td>50</td>\n",
       "      <td>70</td>\n",
       "    </tr>\n",
       "  </tbody>\n",
       "</table>\n",
       "</div>"
      ],
      "text/plain": [
       "                 datetime  season  holiday  workingday  weather   temp  \\\n",
       "4046  2011-09-19 15:00:00       3        0           1        2  24.60   \n",
       "9262  2012-09-09 07:00:00       3        0           0        1  22.14   \n",
       "\n",
       "       atemp  humidity  windspeed  casual  registered  count  \n",
       "4046  30.305        60    15.0013      44         143    187  \n",
       "9262  25.760        73    11.0014      20          50     70  "
      ]
     },
     "execution_count": 46,
     "metadata": {},
     "output_type": "execute_result"
    }
   ],
   "source": [
    "df_train, df_test = train_test_split(df, train_size=0.7, random_state=123)\n",
    "df_train.head(2)"
   ]
  },
  {
   "cell_type": "code",
   "execution_count": 47,
   "id": "5c9ae35d",
   "metadata": {},
   "outputs": [
    {
     "data": {
      "text/html": [
       "<table class=\"simpletable\">\n",
       "<caption>OLS Regression Results</caption>\n",
       "<tr>\n",
       "  <th>Dep. Variable:</th>       <td>registered</td>    <th>  R-squared:         </th> <td>   0.106</td> \n",
       "</tr>\n",
       "<tr>\n",
       "  <th>Model:</th>                   <td>OLS</td>       <th>  Adj. R-squared:    </th> <td>   0.106</td> \n",
       "</tr>\n",
       "<tr>\n",
       "  <th>Method:</th>             <td>Least Squares</td>  <th>  F-statistic:       </th> <td>   902.3</td> \n",
       "</tr>\n",
       "<tr>\n",
       "  <th>Date:</th>             <td>Wed, 08 Feb 2023</td> <th>  Prob (F-statistic):</th> <td>1.92e-187</td>\n",
       "</tr>\n",
       "<tr>\n",
       "  <th>Time:</th>                 <td>01:41:51</td>     <th>  Log-Likelihood:    </th> <td> -48650.</td> \n",
       "</tr>\n",
       "<tr>\n",
       "  <th>No. Observations:</th>      <td>  7620</td>      <th>  AIC:               </th> <td>9.730e+04</td>\n",
       "</tr>\n",
       "<tr>\n",
       "  <th>Df Residuals:</th>          <td>  7618</td>      <th>  BIC:               </th> <td>9.732e+04</td>\n",
       "</tr>\n",
       "<tr>\n",
       "  <th>Df Model:</th>              <td>     1</td>      <th>                     </th>     <td> </td>    \n",
       "</tr>\n",
       "<tr>\n",
       "  <th>Covariance Type:</th>      <td>nonrobust</td>    <th>                     </th>     <td> </td>    \n",
       "</tr>\n",
       "</table>\n",
       "<table class=\"simpletable\">\n",
       "<tr>\n",
       "      <td></td>         <th>coef</th>     <th>std err</th>      <th>t</th>      <th>P>|t|</th>  <th>[0.025</th>    <th>0.975]</th>  \n",
       "</tr>\n",
       "<tr>\n",
       "  <th>Intercept</th> <td>   27.5151</td> <td>    4.559</td> <td>    6.036</td> <td> 0.000</td> <td>   18.579</td> <td>   36.452</td>\n",
       "</tr>\n",
       "<tr>\n",
       "  <th>temp</th>      <td>    6.3391</td> <td>    0.211</td> <td>   30.038</td> <td> 0.000</td> <td>    5.925</td> <td>    6.753</td>\n",
       "</tr>\n",
       "</table>\n",
       "<table class=\"simpletable\">\n",
       "<tr>\n",
       "  <th>Omnibus:</th>       <td>2097.525</td> <th>  Durbin-Watson:     </th> <td>   2.022</td>\n",
       "</tr>\n",
       "<tr>\n",
       "  <th>Prob(Omnibus):</th>  <td> 0.000</td>  <th>  Jarque-Bera (JB):  </th> <td>5337.402</td>\n",
       "</tr>\n",
       "<tr>\n",
       "  <th>Skew:</th>           <td> 1.502</td>  <th>  Prob(JB):          </th> <td>    0.00</td>\n",
       "</tr>\n",
       "<tr>\n",
       "  <th>Kurtosis:</th>       <td> 5.790</td>  <th>  Cond. No.          </th> <td>    60.1</td>\n",
       "</tr>\n",
       "</table><br/><br/>Notes:<br/>[1] Standard Errors assume that the covariance matrix of the errors is correctly specified."
      ],
      "text/plain": [
       "<class 'statsmodels.iolib.summary.Summary'>\n",
       "\"\"\"\n",
       "                            OLS Regression Results                            \n",
       "==============================================================================\n",
       "Dep. Variable:             registered   R-squared:                       0.106\n",
       "Model:                            OLS   Adj. R-squared:                  0.106\n",
       "Method:                 Least Squares   F-statistic:                     902.3\n",
       "Date:                Wed, 08 Feb 2023   Prob (F-statistic):          1.92e-187\n",
       "Time:                        01:41:51   Log-Likelihood:                -48650.\n",
       "No. Observations:                7620   AIC:                         9.730e+04\n",
       "Df Residuals:                    7618   BIC:                         9.732e+04\n",
       "Df Model:                           1                                         \n",
       "Covariance Type:            nonrobust                                         \n",
       "==============================================================================\n",
       "                 coef    std err          t      P>|t|      [0.025      0.975]\n",
       "------------------------------------------------------------------------------\n",
       "Intercept     27.5151      4.559      6.036      0.000      18.579      36.452\n",
       "temp           6.3391      0.211     30.038      0.000       5.925       6.753\n",
       "==============================================================================\n",
       "Omnibus:                     2097.525   Durbin-Watson:                   2.022\n",
       "Prob(Omnibus):                  0.000   Jarque-Bera (JB):             5337.402\n",
       "Skew:                           1.502   Prob(JB):                         0.00\n",
       "Kurtosis:                       5.790   Cond. No.                         60.1\n",
       "==============================================================================\n",
       "\n",
       "Notes:\n",
       "[1] Standard Errors assume that the covariance matrix of the errors is correctly specified.\n",
       "\"\"\""
      ]
     },
     "execution_count": 47,
     "metadata": {},
     "output_type": "execute_result"
    }
   ],
   "source": [
    "model = ols(formula = \"registered ~ temp\", data=df_train).fit()\n",
    "model.summary()"
   ]
  },
  {
   "cell_type": "markdown",
   "id": "d8caf339",
   "metadata": {},
   "source": [
    "문제 02. 종속변수를 casual, 독립변수를 atemp로 했을 때 RMSE는?\n",
    "statsmodels 함수 활용"
   ]
  },
  {
   "cell_type": "code",
   "execution_count": 48,
   "id": "07d0fd0a",
   "metadata": {},
   "outputs": [
    {
     "data": {
      "text/html": [
       "<table class=\"simpletable\">\n",
       "<caption>OLS Regression Results</caption>\n",
       "<tr>\n",
       "  <th>Dep. Variable:</th>         <td>casual</td>      <th>  R-squared:         </th> <td>   0.219</td> \n",
       "</tr>\n",
       "<tr>\n",
       "  <th>Model:</th>                   <td>OLS</td>       <th>  Adj. R-squared:    </th> <td>   0.219</td> \n",
       "</tr>\n",
       "<tr>\n",
       "  <th>Method:</th>             <td>Least Squares</td>  <th>  F-statistic:       </th> <td>   2138.</td> \n",
       "</tr>\n",
       "<tr>\n",
       "  <th>Date:</th>             <td>Wed, 08 Feb 2023</td> <th>  Prob (F-statistic):</th>  <td>  0.00</td>  \n",
       "</tr>\n",
       "<tr>\n",
       "  <th>Time:</th>                 <td>01:44:44</td>     <th>  Log-Likelihood:    </th> <td> -39689.</td> \n",
       "</tr>\n",
       "<tr>\n",
       "  <th>No. Observations:</th>      <td>  7620</td>      <th>  AIC:               </th> <td>7.938e+04</td>\n",
       "</tr>\n",
       "<tr>\n",
       "  <th>Df Residuals:</th>          <td>  7618</td>      <th>  BIC:               </th> <td>7.940e+04</td>\n",
       "</tr>\n",
       "<tr>\n",
       "  <th>Df Model:</th>              <td>     1</td>      <th>                     </th>     <td> </td>    \n",
       "</tr>\n",
       "<tr>\n",
       "  <th>Covariance Type:</th>      <td>nonrobust</td>    <th>                     </th>     <td> </td>    \n",
       "</tr>\n",
       "</table>\n",
       "<table class=\"simpletable\">\n",
       "<tr>\n",
       "      <td></td>         <th>coef</th>     <th>std err</th>      <th>t</th>      <th>P>|t|</th>  <th>[0.025</th>    <th>0.975]</th>  \n",
       "</tr>\n",
       "<tr>\n",
       "  <th>Intercept</th> <td>  -29.2974</td> <td>    1.498</td> <td>  -19.554</td> <td> 0.000</td> <td>  -32.234</td> <td>  -26.360</td>\n",
       "</tr>\n",
       "<tr>\n",
       "  <th>atemp</th>     <td>    2.7672</td> <td>    0.060</td> <td>   46.243</td> <td> 0.000</td> <td>    2.650</td> <td>    2.885</td>\n",
       "</tr>\n",
       "</table>\n",
       "<table class=\"simpletable\">\n",
       "<tr>\n",
       "  <th>Omnibus:</th>       <td>4125.373</td> <th>  Durbin-Watson:     </th> <td>   1.973</td> \n",
       "</tr>\n",
       "<tr>\n",
       "  <th>Prob(Omnibus):</th>  <td> 0.000</td>  <th>  Jarque-Bera (JB):  </th> <td>34148.771</td>\n",
       "</tr>\n",
       "<tr>\n",
       "  <th>Skew:</th>           <td> 2.494</td>  <th>  Prob(JB):          </th> <td>    0.00</td> \n",
       "</tr>\n",
       "<tr>\n",
       "  <th>Kurtosis:</th>       <td>12.092</td>  <th>  Cond. No.          </th> <td>    74.1</td> \n",
       "</tr>\n",
       "</table><br/><br/>Notes:<br/>[1] Standard Errors assume that the covariance matrix of the errors is correctly specified."
      ],
      "text/plain": [
       "<class 'statsmodels.iolib.summary.Summary'>\n",
       "\"\"\"\n",
       "                            OLS Regression Results                            \n",
       "==============================================================================\n",
       "Dep. Variable:                 casual   R-squared:                       0.219\n",
       "Model:                            OLS   Adj. R-squared:                  0.219\n",
       "Method:                 Least Squares   F-statistic:                     2138.\n",
       "Date:                Wed, 08 Feb 2023   Prob (F-statistic):               0.00\n",
       "Time:                        01:44:44   Log-Likelihood:                -39689.\n",
       "No. Observations:                7620   AIC:                         7.938e+04\n",
       "Df Residuals:                    7618   BIC:                         7.940e+04\n",
       "Df Model:                           1                                         \n",
       "Covariance Type:            nonrobust                                         \n",
       "==============================================================================\n",
       "                 coef    std err          t      P>|t|      [0.025      0.975]\n",
       "------------------------------------------------------------------------------\n",
       "Intercept    -29.2974      1.498    -19.554      0.000     -32.234     -26.360\n",
       "atemp          2.7672      0.060     46.243      0.000       2.650       2.885\n",
       "==============================================================================\n",
       "Omnibus:                     4125.373   Durbin-Watson:                   1.973\n",
       "Prob(Omnibus):                  0.000   Jarque-Bera (JB):            34148.771\n",
       "Skew:                           2.494   Prob(JB):                         0.00\n",
       "Kurtosis:                      12.092   Cond. No.                         74.1\n",
       "==============================================================================\n",
       "\n",
       "Notes:\n",
       "[1] Standard Errors assume that the covariance matrix of the errors is correctly specified.\n",
       "\"\"\""
      ]
     },
     "execution_count": 48,
     "metadata": {},
     "output_type": "execute_result"
    }
   ],
   "source": [
    "df = pd.read_csv(\"bike.csv\")\n",
    "df_train, df_test = train_test_split(df, train_size=0.7, random_state=123)\n",
    "model = ols(formula = \"casual ~ atemp\", data=df_train).fit()\n",
    "model.summary()"
   ]
  },
  {
   "cell_type": "code",
   "execution_count": 49,
   "id": "f4e58de9",
   "metadata": {},
   "outputs": [
    {
     "data": {
      "text/plain": [
       "6495    31.499001\n",
       "7050    12.626390\n",
       "558     10.537120\n",
       "5085    33.588271\n",
       "dtype: float64"
      ]
     },
     "execution_count": 49,
     "metadata": {},
     "output_type": "execute_result"
    }
   ],
   "source": [
    "pred = model.predict(df_test)\n",
    "pred[:4]"
   ]
  },
  {
   "cell_type": "code",
   "execution_count": 50,
   "id": "6c605760",
   "metadata": {},
   "outputs": [
    {
     "data": {
      "text/plain": [
       "44.46237010271433"
      ]
     },
     "execution_count": 50,
     "metadata": {},
     "output_type": "execute_result"
    }
   ],
   "source": [
    "mean_squared_error(y_pred = pred, y_true=df_test[\"casual\"]) ** 0.5"
   ]
  },
  {
   "cell_type": "markdown",
   "id": "86571142",
   "metadata": {},
   "source": [
    "문제 03. 종속변수를 casual, 독립변수를 atemp로 했을 때 여름과 겨울의 RMSE 차이는?"
   ]
  },
  {
   "cell_type": "code",
   "execution_count": 52,
   "id": "73c562af",
   "metadata": {},
   "outputs": [],
   "source": [
    "df = pd.read_csv(\"bike.csv\")\n",
    "df_s2 = df.loc[df[\"season\"]==2,]\n",
    "df_s4 = df.loc[df[\"season\"]==4,]"
   ]
  },
  {
   "cell_type": "code",
   "execution_count": 53,
   "id": "2a9bfe94",
   "metadata": {
    "scrolled": true
   },
   "outputs": [
    {
     "data": {
      "text/html": [
       "<div>\n",
       "<style scoped>\n",
       "    .dataframe tbody tr th:only-of-type {\n",
       "        vertical-align: middle;\n",
       "    }\n",
       "\n",
       "    .dataframe tbody tr th {\n",
       "        vertical-align: top;\n",
       "    }\n",
       "\n",
       "    .dataframe thead th {\n",
       "        text-align: right;\n",
       "    }\n",
       "</style>\n",
       "<table border=\"1\" class=\"dataframe\">\n",
       "  <thead>\n",
       "    <tr style=\"text-align: right;\">\n",
       "      <th></th>\n",
       "      <th>datetime</th>\n",
       "      <th>season</th>\n",
       "      <th>holiday</th>\n",
       "      <th>workingday</th>\n",
       "      <th>weather</th>\n",
       "      <th>temp</th>\n",
       "      <th>atemp</th>\n",
       "      <th>humidity</th>\n",
       "      <th>windspeed</th>\n",
       "      <th>casual</th>\n",
       "      <th>registered</th>\n",
       "      <th>count</th>\n",
       "    </tr>\n",
       "  </thead>\n",
       "  <tbody>\n",
       "    <tr>\n",
       "      <th>1323</th>\n",
       "      <td>2011-04-01 00:00:00</td>\n",
       "      <td>2</td>\n",
       "      <td>0</td>\n",
       "      <td>1</td>\n",
       "      <td>3</td>\n",
       "      <td>10.66</td>\n",
       "      <td>12.880</td>\n",
       "      <td>100</td>\n",
       "      <td>11.0014</td>\n",
       "      <td>0</td>\n",
       "      <td>6</td>\n",
       "      <td>6</td>\n",
       "    </tr>\n",
       "    <tr>\n",
       "      <th>1324</th>\n",
       "      <td>2011-04-01 01:00:00</td>\n",
       "      <td>2</td>\n",
       "      <td>0</td>\n",
       "      <td>1</td>\n",
       "      <td>3</td>\n",
       "      <td>10.66</td>\n",
       "      <td>12.880</td>\n",
       "      <td>100</td>\n",
       "      <td>11.0014</td>\n",
       "      <td>0</td>\n",
       "      <td>4</td>\n",
       "      <td>4</td>\n",
       "    </tr>\n",
       "    <tr>\n",
       "      <th>1325</th>\n",
       "      <td>2011-04-01 02:00:00</td>\n",
       "      <td>2</td>\n",
       "      <td>0</td>\n",
       "      <td>1</td>\n",
       "      <td>3</td>\n",
       "      <td>10.66</td>\n",
       "      <td>12.880</td>\n",
       "      <td>93</td>\n",
       "      <td>12.9980</td>\n",
       "      <td>0</td>\n",
       "      <td>7</td>\n",
       "      <td>7</td>\n",
       "    </tr>\n",
       "    <tr>\n",
       "      <th>1326</th>\n",
       "      <td>2011-04-01 03:00:00</td>\n",
       "      <td>2</td>\n",
       "      <td>0</td>\n",
       "      <td>1</td>\n",
       "      <td>2</td>\n",
       "      <td>9.84</td>\n",
       "      <td>11.365</td>\n",
       "      <td>93</td>\n",
       "      <td>16.9979</td>\n",
       "      <td>0</td>\n",
       "      <td>4</td>\n",
       "      <td>4</td>\n",
       "    </tr>\n",
       "    <tr>\n",
       "      <th>1327</th>\n",
       "      <td>2011-04-01 04:00:00</td>\n",
       "      <td>2</td>\n",
       "      <td>0</td>\n",
       "      <td>1</td>\n",
       "      <td>2</td>\n",
       "      <td>9.84</td>\n",
       "      <td>11.365</td>\n",
       "      <td>93</td>\n",
       "      <td>16.9979</td>\n",
       "      <td>0</td>\n",
       "      <td>3</td>\n",
       "      <td>3</td>\n",
       "    </tr>\n",
       "    <tr>\n",
       "      <th>...</th>\n",
       "      <td>...</td>\n",
       "      <td>...</td>\n",
       "      <td>...</td>\n",
       "      <td>...</td>\n",
       "      <td>...</td>\n",
       "      <td>...</td>\n",
       "      <td>...</td>\n",
       "      <td>...</td>\n",
       "      <td>...</td>\n",
       "      <td>...</td>\n",
       "      <td>...</td>\n",
       "      <td>...</td>\n",
       "    </tr>\n",
       "    <tr>\n",
       "      <th>8146</th>\n",
       "      <td>2012-06-19 19:00:00</td>\n",
       "      <td>2</td>\n",
       "      <td>0</td>\n",
       "      <td>1</td>\n",
       "      <td>1</td>\n",
       "      <td>32.80</td>\n",
       "      <td>38.635</td>\n",
       "      <td>59</td>\n",
       "      <td>15.0013</td>\n",
       "      <td>82</td>\n",
       "      <td>432</td>\n",
       "      <td>514</td>\n",
       "    </tr>\n",
       "    <tr>\n",
       "      <th>8147</th>\n",
       "      <td>2012-06-19 20:00:00</td>\n",
       "      <td>2</td>\n",
       "      <td>0</td>\n",
       "      <td>1</td>\n",
       "      <td>1</td>\n",
       "      <td>32.80</td>\n",
       "      <td>37.880</td>\n",
       "      <td>55</td>\n",
       "      <td>16.9979</td>\n",
       "      <td>59</td>\n",
       "      <td>399</td>\n",
       "      <td>458</td>\n",
       "    </tr>\n",
       "    <tr>\n",
       "      <th>8148</th>\n",
       "      <td>2012-06-19 21:00:00</td>\n",
       "      <td>2</td>\n",
       "      <td>0</td>\n",
       "      <td>1</td>\n",
       "      <td>1</td>\n",
       "      <td>31.16</td>\n",
       "      <td>35.605</td>\n",
       "      <td>62</td>\n",
       "      <td>11.0014</td>\n",
       "      <td>37</td>\n",
       "      <td>239</td>\n",
       "      <td>276</td>\n",
       "    </tr>\n",
       "    <tr>\n",
       "      <th>8149</th>\n",
       "      <td>2012-06-19 22:00:00</td>\n",
       "      <td>2</td>\n",
       "      <td>0</td>\n",
       "      <td>1</td>\n",
       "      <td>1</td>\n",
       "      <td>29.52</td>\n",
       "      <td>34.850</td>\n",
       "      <td>79</td>\n",
       "      <td>6.0032</td>\n",
       "      <td>51</td>\n",
       "      <td>240</td>\n",
       "      <td>291</td>\n",
       "    </tr>\n",
       "    <tr>\n",
       "      <th>8150</th>\n",
       "      <td>2012-06-19 23:00:00</td>\n",
       "      <td>2</td>\n",
       "      <td>0</td>\n",
       "      <td>1</td>\n",
       "      <td>1</td>\n",
       "      <td>29.52</td>\n",
       "      <td>34.850</td>\n",
       "      <td>79</td>\n",
       "      <td>8.9981</td>\n",
       "      <td>23</td>\n",
       "      <td>102</td>\n",
       "      <td>125</td>\n",
       "    </tr>\n",
       "  </tbody>\n",
       "</table>\n",
       "<p>2733 rows × 12 columns</p>\n",
       "</div>"
      ],
      "text/plain": [
       "                 datetime  season  holiday  workingday  weather   temp  \\\n",
       "1323  2011-04-01 00:00:00       2        0           1        3  10.66   \n",
       "1324  2011-04-01 01:00:00       2        0           1        3  10.66   \n",
       "1325  2011-04-01 02:00:00       2        0           1        3  10.66   \n",
       "1326  2011-04-01 03:00:00       2        0           1        2   9.84   \n",
       "1327  2011-04-01 04:00:00       2        0           1        2   9.84   \n",
       "...                   ...     ...      ...         ...      ...    ...   \n",
       "8146  2012-06-19 19:00:00       2        0           1        1  32.80   \n",
       "8147  2012-06-19 20:00:00       2        0           1        1  32.80   \n",
       "8148  2012-06-19 21:00:00       2        0           1        1  31.16   \n",
       "8149  2012-06-19 22:00:00       2        0           1        1  29.52   \n",
       "8150  2012-06-19 23:00:00       2        0           1        1  29.52   \n",
       "\n",
       "       atemp  humidity  windspeed  casual  registered  count  \n",
       "1323  12.880       100    11.0014       0           6      6  \n",
       "1324  12.880       100    11.0014       0           4      4  \n",
       "1325  12.880        93    12.9980       0           7      7  \n",
       "1326  11.365        93    16.9979       0           4      4  \n",
       "1327  11.365        93    16.9979       0           3      3  \n",
       "...      ...       ...        ...     ...         ...    ...  \n",
       "8146  38.635        59    15.0013      82         432    514  \n",
       "8147  37.880        55    16.9979      59         399    458  \n",
       "8148  35.605        62    11.0014      37         239    276  \n",
       "8149  34.850        79     6.0032      51         240    291  \n",
       "8150  34.850        79     8.9981      23         102    125  \n",
       "\n",
       "[2733 rows x 12 columns]"
      ]
     },
     "execution_count": 53,
     "metadata": {},
     "output_type": "execute_result"
    }
   ],
   "source": [
    "df_s2"
   ]
  },
  {
   "cell_type": "code",
   "execution_count": 56,
   "id": "de9c88de",
   "metadata": {},
   "outputs": [],
   "source": [
    "df_s2_train, df_s2_test = train_test_split(df_s2, train_size=0.7, random_state=123)\n",
    "df_s4_train, df_s4_test = train_test_split(df_s4, train_size=0.7, random_state=123)"
   ]
  },
  {
   "cell_type": "code",
   "execution_count": 57,
   "id": "63125306",
   "metadata": {},
   "outputs": [],
   "source": [
    "model_s2 = ols(formula = \"casual ~ atemp\", data=df_s2_train).fit()\n",
    "model_s4 = ols(formula = \"casual ~ atemp\", data=df_s4_train).fit()\n",
    "pred_s2 = model_s2.predict(df_s2_test)\n",
    "pred_s4 = model_s4.predict(df_s4_test)"
   ]
  },
  {
   "cell_type": "code",
   "execution_count": null,
   "id": "6b72b243",
   "metadata": {},
   "outputs": [],
   "source": [
    "RMSE_s2 = mean_squared_error(y_pred=pred_s2, y_true=df_s2_test[])"
   ]
  }
 ],
 "metadata": {
  "kernelspec": {
   "display_name": "Python 3 (ipykernel)",
   "language": "python",
   "name": "python3"
  },
  "language_info": {
   "codemirror_mode": {
    "name": "ipython",
    "version": 3
   },
   "file_extension": ".py",
   "mimetype": "text/x-python",
   "name": "python",
   "nbconvert_exporter": "python",
   "pygments_lexer": "ipython3",
   "version": "3.9.12"
  }
 },
 "nbformat": 4,
 "nbformat_minor": 5
}

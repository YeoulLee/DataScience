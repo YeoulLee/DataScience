{
 "cells": [
  {
   "cell_type": "code",
   "execution_count": 1,
   "id": "a1dbf16e",
   "metadata": {},
   "outputs": [],
   "source": [
    "import pandas as pd"
   ]
  },
  {
   "cell_type": "code",
   "execution_count": 2,
   "id": "28cf15a0",
   "metadata": {},
   "outputs": [],
   "source": [
    "def udf_sum(x,y):\n",
    "    result = x + y\n",
    "    return result"
   ]
  },
  {
   "cell_type": "code",
   "execution_count": 3,
   "id": "189c200a",
   "metadata": {},
   "outputs": [
    {
     "data": {
      "text/plain": [
       "0     6\n",
       "1     8\n",
       "2    10\n",
       "dtype: int64"
      ]
     },
     "execution_count": 3,
     "metadata": {},
     "output_type": "execute_result"
    }
   ],
   "source": [
    "udf_sum(pd.Series([2,4,6]), 4)"
   ]
  },
  {
   "cell_type": "code",
   "execution_count": 4,
   "id": "81093748",
   "metadata": {},
   "outputs": [],
   "source": [
    "def udf_sum2(x,y):\n",
    "    result = x.sum() + y\n",
    "    return result"
   ]
  },
  {
   "cell_type": "code",
   "execution_count": 5,
   "id": "b775f260",
   "metadata": {},
   "outputs": [
    {
     "data": {
      "text/plain": [
       "16"
      ]
     },
     "execution_count": 5,
     "metadata": {},
     "output_type": "execute_result"
    }
   ],
   "source": [
    "udf_sum2(pd.Series([2,4,6]), 4)"
   ]
  },
  {
   "cell_type": "code",
   "execution_count": 6,
   "id": "bf8e88ef",
   "metadata": {},
   "outputs": [],
   "source": [
    "def udf_mean1(x):\n",
    "    result = round(x.mean(), 3)\n",
    "    return result"
   ]
  },
  {
   "cell_type": "code",
   "execution_count": 9,
   "id": "b4a3e95d",
   "metadata": {},
   "outputs": [
    {
     "data": {
      "text/plain": [
       "3.059"
      ]
     },
     "execution_count": 9,
     "metadata": {},
     "output_type": "execute_result"
    }
   ],
   "source": [
    "udf_mean1(pd.Series([2,4,6,0.2345]))"
   ]
  },
  {
   "cell_type": "code",
   "execution_count": 12,
   "id": "42dec93f",
   "metadata": {},
   "outputs": [],
   "source": [
    "def udf_mean2(x, digit):\n",
    "    result = round(x.mean(), digit)\n",
    "    return result"
   ]
  },
  {
   "cell_type": "code",
   "execution_count": 13,
   "id": "e32d1f4a",
   "metadata": {},
   "outputs": [
    {
     "data": {
      "text/plain": [
       "3.06"
      ]
     },
     "execution_count": 13,
     "metadata": {},
     "output_type": "execute_result"
    }
   ],
   "source": [
    "udf_mean2(pd.Series([2,4,6,0.2345]), 2)"
   ]
  },
  {
   "cell_type": "code",
   "execution_count": 14,
   "id": "53f518c0",
   "metadata": {},
   "outputs": [],
   "source": [
    "def udf_mean3(x, digit=3):\n",
    "    result = round(x.mean(), digit)\n",
    "    return result"
   ]
  },
  {
   "cell_type": "code",
   "execution_count": 15,
   "id": "e5aea16d",
   "metadata": {},
   "outputs": [
    {
     "data": {
      "text/plain": [
       "3.059"
      ]
     },
     "execution_count": 15,
     "metadata": {},
     "output_type": "execute_result"
    }
   ],
   "source": [
    "udf_mean3(pd.Series([2,4,6,0.2345]))"
   ]
  },
  {
   "cell_type": "markdown",
   "id": "88915387",
   "metadata": {},
   "source": [
    "문제 01. 입력 객체의 원소를 모두 제곱한 후 그 원소를 더한 다음 제곱근을 취하는 사용자 정의 함수를 만들었을 때 해당 사용자 정의 함수에 [3,5,9,20]를 입력으로 하는 경우 그 출력값은?"
   ]
  },
  {
   "cell_type": "code",
   "execution_count": 16,
   "id": "58aa3c07",
   "metadata": {},
   "outputs": [],
   "source": [
    "def udf_euc(x):\n",
    "    result = x.pow(2).sum() ** 0.5\n",
    "    return result"
   ]
  },
  {
   "cell_type": "code",
   "execution_count": 17,
   "id": "032d9a18",
   "metadata": {},
   "outputs": [
    {
     "data": {
      "text/plain": [
       "22.693611435820433"
      ]
     },
     "execution_count": 17,
     "metadata": {},
     "output_type": "execute_result"
    }
   ],
   "source": [
    "udf_euc(pd.Series([3,5,9,20]))"
   ]
  },
  {
   "cell_type": "code",
   "execution_count": 19,
   "id": "7ba88fb2",
   "metadata": {},
   "outputs": [],
   "source": [
    "def udf_euc2(x):\n",
    "    result = (x**2).sum() ** 0.5\n",
    "    return result"
   ]
  },
  {
   "cell_type": "code",
   "execution_count": 20,
   "id": "909f2df2",
   "metadata": {},
   "outputs": [
    {
     "data": {
      "text/plain": [
       "22.693611435820433"
      ]
     },
     "execution_count": 20,
     "metadata": {},
     "output_type": "execute_result"
    }
   ],
   "source": [
    "udf_euc2(pd.Series([3,5,9,20]))"
   ]
  },
  {
   "cell_type": "code",
   "execution_count": 21,
   "id": "30f6e7fc",
   "metadata": {},
   "outputs": [],
   "source": [
    "def udf_euc3(x):\n",
    "    result = x.pow(2).sum().pow(0.5)\n",
    "    return result"
   ]
  },
  {
   "cell_type": "code",
   "execution_count": 22,
   "id": "55e86d51",
   "metadata": {},
   "outputs": [
    {
     "ename": "AttributeError",
     "evalue": "'numpy.int64' object has no attribute 'pow'",
     "output_type": "error",
     "traceback": [
      "\u001b[1;31m---------------------------------------------------------------------------\u001b[0m",
      "\u001b[1;31mAttributeError\u001b[0m                            Traceback (most recent call last)",
      "Input \u001b[1;32mIn [22]\u001b[0m, in \u001b[0;36m<cell line: 1>\u001b[1;34m()\u001b[0m\n\u001b[1;32m----> 1\u001b[0m \u001b[43mudf_euc3\u001b[49m\u001b[43m(\u001b[49m\u001b[43mpd\u001b[49m\u001b[38;5;241;43m.\u001b[39;49m\u001b[43mSeries\u001b[49m\u001b[43m(\u001b[49m\u001b[43m[\u001b[49m\u001b[38;5;241;43m3\u001b[39;49m\u001b[43m,\u001b[49m\u001b[38;5;241;43m5\u001b[39;49m\u001b[43m,\u001b[49m\u001b[38;5;241;43m9\u001b[39;49m\u001b[43m,\u001b[49m\u001b[38;5;241;43m20\u001b[39;49m\u001b[43m]\u001b[49m\u001b[43m)\u001b[49m\u001b[43m)\u001b[49m\n",
      "Input \u001b[1;32mIn [21]\u001b[0m, in \u001b[0;36mudf_euc3\u001b[1;34m(x)\u001b[0m\n\u001b[0;32m      1\u001b[0m \u001b[38;5;28;01mdef\u001b[39;00m \u001b[38;5;21mudf_euc3\u001b[39m(x):\n\u001b[1;32m----> 2\u001b[0m     result \u001b[38;5;241m=\u001b[39m \u001b[43mx\u001b[49m\u001b[38;5;241;43m.\u001b[39;49m\u001b[43mpow\u001b[49m\u001b[43m(\u001b[49m\u001b[38;5;241;43m2\u001b[39;49m\u001b[43m)\u001b[49m\u001b[38;5;241;43m.\u001b[39;49m\u001b[43msum\u001b[49m\u001b[43m(\u001b[49m\u001b[43m)\u001b[49m\u001b[38;5;241;43m.\u001b[39;49m\u001b[43mpow\u001b[49m(\u001b[38;5;241m0.5\u001b[39m)\n\u001b[0;32m      3\u001b[0m     \u001b[38;5;28;01mreturn\u001b[39;00m result\n",
      "\u001b[1;31mAttributeError\u001b[0m: 'numpy.int64' object has no attribute 'pow'"
     ]
    }
   ],
   "source": [
    "udf_euc3(pd.Series([3,5,9,20]))"
   ]
  },
  {
   "cell_type": "markdown",
   "id": "908e841f",
   "metadata": {},
   "source": [
    "문제 02. 표준화(Standardization) 사용자 정의 함수를 만들고 [-4,5,7,9]를 입력한 경우 여기서 입력한 7은 몇 으로 반환되는가?"
   ]
  },
  {
   "cell_type": "code",
   "execution_count": 25,
   "id": "6ce1dddd",
   "metadata": {},
   "outputs": [],
   "source": [
    "def nor_std(x):\n",
    "    result =(x - x.mean()) / x.std()\n",
    "    return result"
   ]
  },
  {
   "cell_type": "code",
   "execution_count": 26,
   "id": "8ab0bceb",
   "metadata": {},
   "outputs": [
    {
     "data": {
      "text/plain": [
       "0   -1.437957\n",
       "1    0.130723\n",
       "2    0.479319\n",
       "3    0.827915\n",
       "dtype: float64"
      ]
     },
     "execution_count": 26,
     "metadata": {},
     "output_type": "execute_result"
    }
   ],
   "source": [
    "nor_std(pd.Series([-4,5,7,9]))"
   ]
  },
  {
   "cell_type": "markdown",
   "id": "1508bf21",
   "metadata": {},
   "source": [
    "문제 03. MinMax 정규화 사용자 정의 함수를 만들고 [-4,5,7,9]를 입력한 경우 여기서 입력한 7은 몇으로 반환되는가?"
   ]
  },
  {
   "cell_type": "code",
   "execution_count": 28,
   "id": "f00a3fb2",
   "metadata": {},
   "outputs": [],
   "source": [
    "def nor_minmax(x):\n",
    "    result = (x - x.min()) / (x.max() - x.min())\n",
    "    return result"
   ]
  },
  {
   "cell_type": "code",
   "execution_count": 29,
   "id": "0cb4ac69",
   "metadata": {},
   "outputs": [
    {
     "data": {
      "text/plain": [
       "0    0.000000\n",
       "1    0.692308\n",
       "2    0.846154\n",
       "3    1.000000\n",
       "dtype: float64"
      ]
     },
     "execution_count": 29,
     "metadata": {},
     "output_type": "execute_result"
    }
   ],
   "source": [
    "nor_minmax(pd.Series([-4,5,7,9]))"
   ]
  },
  {
   "cell_type": "code",
   "execution_count": null,
   "id": "5418c4ac",
   "metadata": {},
   "outputs": [],
   "source": []
  }
 ],
 "metadata": {
  "kernelspec": {
   "display_name": "Python 3 (ipykernel)",
   "language": "python",
   "name": "python3"
  },
  "language_info": {
   "codemirror_mode": {
    "name": "ipython",
    "version": 3
   },
   "file_extension": ".py",
   "mimetype": "text/x-python",
   "name": "python",
   "nbconvert_exporter": "python",
   "pygments_lexer": "ipython3",
   "version": "3.9.12"
  }
 },
 "nbformat": 4,
 "nbformat_minor": 5
}
